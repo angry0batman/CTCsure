{
 "cells": [
  {
   "cell_type": "code",
   "execution_count": 1,
   "metadata": {},
   "outputs": [
    {
     "name": "stdout",
     "output_type": "stream",
     "text": [
      "Dataset saved as 'dsa_scores_dataset.csv'\n"
     ]
    }
   ],
   "source": [
    "import pandas as pd\n",
    "import random\n",
    "\n",
    "# Define the categories and their base scores\n",
    "categories = ['basics', 'stl', 'sorting', 'searching', 'graphs', 'trees', 'dynamic programming', 'number theory']\n",
    "base_scores = {'basics': 90, 'stl': 75, 'sorting': 80, 'searching': 60,\n",
    "               'graphs': 90, 'trees': 75, 'dynamic programming': 78, 'number theory': 75}\n",
    "\n",
    "# Generate 2000 entries\n",
    "data = []\n",
    "for _ in range(2000):\n",
    "    # Generate random scores for each category\n",
    "    scores = {category: base_scores[category] + random.randint(-10, 10) for category in categories}\n",
    "    \n",
    "    # Calculate DSA score based on conditions\n",
    "    if scores['graphs'] >= 85 and scores['trees'] >= 70 and scores['dynamic programming'] >= 75 and scores['number theory'] >= 70:\n",
    "        dsa_score = 70 + random.randint(0, 5)\n",
    "    else:\n",
    "        dsa_score = random.randint(50, 70)\n",
    "    \n",
    "    data.append({**scores, 'dsa_score': dsa_score})\n",
    "\n",
    "# Create a DataFrame\n",
    "df = pd.DataFrame(data)\n",
    "\n",
    "# Save to CSV\n",
    "df.to_csv('dsa_scores_dataset.csv', index=False)\n",
    "\n",
    "print(\"Dataset saved as 'dsa_scores_dataset.csv'\")\n"
   ]
  }
 ],
 "metadata": {
  "kernelspec": {
   "display_name": "base",
   "language": "python",
   "name": "python3"
  },
  "language_info": {
   "codemirror_mode": {
    "name": "ipython",
    "version": 3
   },
   "file_extension": ".py",
   "mimetype": "text/x-python",
   "name": "python",
   "nbconvert_exporter": "python",
   "pygments_lexer": "ipython3",
   "version": "3.11.5"
  }
 },
 "nbformat": 4,
 "nbformat_minor": 2
}
