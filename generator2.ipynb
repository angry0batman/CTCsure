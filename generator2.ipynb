{
 "cells": [
  {
   "cell_type": "code",
   "execution_count": 2,
   "metadata": {},
   "outputs": [
    {
     "name": "stdout",
     "output_type": "stream",
     "text": [
      "Dataset saved to generated_dataset_balanced_accuracy.csv\n"
     ]
    }
   ],
   "source": [
    "import pandas as pd\n",
    "import numpy as np\n",
    "\n",
    "np.random.seed(42)  # For reproducibility\n",
    "\n",
    "# Generating data\n",
    "n = 3000\n",
    "\n",
    "roll_numbers = np.arange(1, n+1)\n",
    "dsa_scores = np.random.randint(50, 100, size=n)\n",
    "resume_scores = np.random.randint(40, 90, size=n)\n",
    "communication_scores = np.random.randint(50, 95, size=n)\n",
    "development_scores = np.random.randint(40, 95, size=n)\n",
    "college_tiers = np.random.choice([1, 2, 3], size=n, p=[0.4, 0.3, 0.3])\n",
    "cgpa = np.round(np.random.uniform(7, 10, size=n), 1)\n",
    "placed = np.random.choice([0, 1], size=n, p=[0.5, 0.5])  # Balanced placement rate\n",
    "\n",
    "# Creating DataFrame\n",
    "data = {\n",
    "    'Roll': roll_numbers,\n",
    "    'dsa_score': dsa_scores,\n",
    "    'resume_score': resume_scores,\n",
    "    'communication_score': communication_scores,\n",
    "    'development_score': development_scores,\n",
    "    'college_tier': college_tiers,\n",
    "    'cgpa': cgpa,\n",
    "    'placed': placed\n",
    "}\n",
    "\n",
    "df = pd.DataFrame(data)\n",
    "\n",
    "# Saving to CSV\n",
    "df.to_csv('generated_dataset_balanced_accuracy.csv', index=False)\n",
    "\n",
    "print(\"Dataset saved to generated_dataset_balanced_accuracy.csv\")\n"
   ]
  }
 ],
 "metadata": {
  "kernelspec": {
   "display_name": "base",
   "language": "python",
   "name": "python3"
  },
  "language_info": {
   "codemirror_mode": {
    "name": "ipython",
    "version": 3
   },
   "file_extension": ".py",
   "mimetype": "text/x-python",
   "name": "python",
   "nbconvert_exporter": "python",
   "pygments_lexer": "ipython3",
   "version": "3.11.5"
  }
 },
 "nbformat": 4,
 "nbformat_minor": 2
}
